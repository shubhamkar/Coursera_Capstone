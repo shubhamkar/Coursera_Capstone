{
 "cells": [
  {
   "cell_type": "markdown",
   "metadata": {
    "collapsed": true
   },
   "source": [
    "# Data Science Capstone - Final Progect\n",
    "\n"
   ]
  },
  {
   "cell_type": "markdown",
   "metadata": {},
   "source": [
    "## Shubhamkar Nitin Giridhar"
   ]
  },
  {
   "cell_type": "markdown",
   "metadata": {},
   "source": [
    "### Business Problem "
   ]
  },
  {
   "cell_type": "markdown",
   "metadata": {},
   "source": [
    " Nowadays people mostly resort to going to malls or big retail chains to purchase their daily stuff. The advantage of going to big retail chains is that one gets all their necessary items just at one place. From groceries to clothes, from sportsequipment’s to stationaries …You name it and you get it!!! Also big hotels, cafe, pubs are one of the most important customers of the retail chains because they purchase their goods in bulk. So, I am aiming to develop a recommender system for these retail outlet chains which would give them a good strategic location for them to open their outlets and make a good profit.\n",
    "\n",
    "Strategic Location is one of the most important factor for any business to succeed. If the location is bad, no matter how much we invest the business wouldn’t be making any profits. Recently one of the biggest retail chains Walmart decided to close 269stores because it was resulting in a loss. Such a mass closure doesn’t affect only the retail chain shareholders but also affect the employment and lives of the people working in such stores. It was estimated that 16,000 people were affected due to the mass closure. This is a very good example which strengthens the claim that ‘Location is one of the most important aspect for any business to succeed’.\n",
    "\n",
    "Hence this recommender system will help these retail chains to analyze whether opening a store in that location would be a good decision or not. Foursquare API would be used to gather essential details of how cafes may, hotels. shops are their giving them some knowledge about their potential customers."
   ]
  },
  {
   "cell_type": "markdown",
   "metadata": {},
   "source": [
    "![Image of Yaktocat](https://cdn1.imggmi.com/uploads/2019/8/2/9a8fb43ead08101f68d6249308c87221-full.jpg)\n"
   ]
  },
  {
   "cell_type": "markdown",
   "metadata": {},
   "source": [
    "## Data"
   ]
  },
  {
   "cell_type": "markdown",
   "metadata": {},
   "source": [
    "The data which would be used to solve the problem would be obtained from a Wikipedia page. The original data namely consists of:\n",
    "    1. Postal code\n",
    "    2. Borough\n",
    "    3. Neighbourhood\n"
   ]
  },
  {
   "cell_type": "markdown",
   "metadata": {},
   "source": [
    "The original dataframe obtained from Wikipedia can be visualized as"
   ]
  },
  {
   "cell_type": "markdown",
   "metadata": {},
   "source": [
    "![Image of Yaktocat](https://cdn1.imggmi.com/uploads/2019/8/2/d5b57e9d00a468565b5bd7bda5c91bd0-full.jpg)"
   ]
  },
  {
   "cell_type": "markdown",
   "metadata": {},
   "source": [
    "The data table need to be prepared by importing raw data from Wikipedia and refining it according to our needs. The data should mainly include neighborhood, longitude and latitude information. We would be only using the Toronto borough for our analysis. Geopy module would be used to get the location longitude and latitude and folium module would be used to view the Toronto map. Finally Foursquare API would be used to gather location information about the top venues in each neighborhoods given the longitude and latitude values. The Latitude and Longitude information would be appended to the original dataframe and also we drop the PostalCode column as we no longer need it for our analysis"
   ]
  },
  {
   "cell_type": "markdown",
   "metadata": {},
   "source": [
    "The final dataframe could be visualized as"
   ]
  },
  {
   "cell_type": "markdown",
   "metadata": {},
   "source": [
    "![Image of Yaktocat](https://cdn1.imggmi.com/uploads/2019/8/2/f547269978fc32cd6d0ae87aa5ae1808-full.jpg)"
   ]
  },
  {
   "cell_type": "markdown",
   "metadata": {},
   "source": [
    "### Methodology "
   ]
  },
  {
   "cell_type": "markdown",
   "metadata": {},
   "source": [
    "The first and the foremost part was to get the data in the correct form which could be used for exploratory data analysis. ‘Folium’ package is one of the best packages available in python to view the location data on the map. Python’s Geopy module is used to get the latitude and the longitude information. Folium centers the map taking in account the latitude and longitude information.\n",
    "\n",
    "We can view all of the neighborhoods in the Borough by calling folium’s Map function. The Foursquare API is then used to get the location information of the different neighborhood and is used to get the most common venues of each neighborhood .The next task would be to group the similar neighborhood together so it will be easy for the retail chains to decide which location would be the best considering the cafes , coffee shops, hotels ,pubs in that neighborhood.\n",
    "\n",
    "The machine learning algorithm which would be used to group the similar neighborhood is the Kmeans algorithm from sklearn Cluster library. Kmeans is a very effective algorithm which groups similar data points into one cluster and dissimilar data into other clusters. Considering the similarity of the venues in each neighborhood Kmeans groups them into different clusters. We can then access individual clusters to get the knowledge about the type of potential customers and venues in each neighborhood which would help the retails stores to choose the best strategic location for their business."
   ]
  },
  {
   "cell_type": "markdown",
   "metadata": {},
   "source": [
    "## Results"
   ]
  },
  {
   "cell_type": "markdown",
   "metadata": {},
   "source": [
    "The results can be viewed as a cluster formed by the Kmeans Algorithm which groups the similar data together. All the neighborhood which have been labelled with the same color points fall in the same cluster. Individual clusters can also be visualized to get the details about the what kind of customers could be expected if the retail store outlet is opened at a given location. Big restaurants, coffee shops, hotels usually buy the commodities in bulk. So greater the numbers of such customers in a neighborhood more would be the sale and this would eventually result in good profit margins."
   ]
  },
  {
   "cell_type": "markdown",
   "metadata": {},
   "source": [
    "The results could be visualized as"
   ]
  },
  {
   "cell_type": "markdown",
   "metadata": {},
   "source": [
    "![Image of Yaktocat](https://cdn1.imggmi.com/uploads/2019/8/2/e785217fa6b5875f351c1e73f9266b04-full.jpg)"
   ]
  },
  {
   "cell_type": "markdown",
   "metadata": {},
   "source": [
    "## Discussion"
   ]
  },
  {
   "cell_type": "markdown",
   "metadata": {},
   "source": [
    "Once we visualize the clusters the next step is to analyse the individual clusters to gather important information about them.We first get the venues from the first cluster .\n",
    "\n",
    "The first cluster can be visualized as"
   ]
  },
  {
   "cell_type": "markdown",
   "metadata": {},
   "source": [
    "So if we have a look at the venues in these neighbourhoods we can see that most of them are coffee shops, hotels,pubs ,pizza joints ,sandwitch place , ice cream joints.So we can observe that these neighbourhoods are the ideal locations for the retail chains to open their outlets."
   ]
  },
  {
   "cell_type": "markdown",
   "metadata": {},
   "source": [
    "The third cluster could be visualized as"
   ]
  },
  {
   "cell_type": "markdown",
   "metadata": {},
   "source": [
    "As we can see most of the venues in this neighborhood contains parks, gym , electronic stores ,event space.So the grocery and daily items sale would be very less as compared to neighbourhood from the previous clusters .So this location is not good in terms of opening a store outlet as it will lead to poor sales and would eventually lead to loss."
   ]
  },
  {
   "cell_type": "markdown",
   "metadata": {},
   "source": [
    "## Conclusion"
   ]
  },
  {
   "cell_type": "markdown",
   "metadata": {},
   "source": [
    "\n",
    "This Projects serves as a very good recommender tool for big retail chains to make a decision whether toopen their outlets at a given or specified location . The foursquare API helps to get the most common venues at a location and machine learning help us to cluster these venues depending upon their similarity .Analysis of these clusters would help the retail chains to identify the potential customers and make a decision of opening their outlet stores."
   ]
  },
  {
   "cell_type": "code",
   "execution_count": null,
   "metadata": {},
   "outputs": [],
   "source": []
  }
 ],
 "metadata": {
  "kernelspec": {
   "display_name": "Python 3",
   "language": "python",
   "name": "python3"
  },
  "language_info": {
   "codemirror_mode": {
    "name": "ipython",
    "version": 3
   },
   "file_extension": ".py",
   "mimetype": "text/x-python",
   "name": "python",
   "nbconvert_exporter": "python",
   "pygments_lexer": "ipython3",
   "version": "3.6.8"
  }
 },
 "nbformat": 4,
 "nbformat_minor": 1
}
