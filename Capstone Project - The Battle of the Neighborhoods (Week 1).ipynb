{
 "cells": [
  {
   "cell_type": "markdown",
   "metadata": {},
   "source": [
    "<h2 align=center><font size=6>Capstone Project - The Battle of the Neighborhoods (Week 1)</font></h2>\n",
    "\n",
    "<h2 align=center><font size=5>Applied Data Science Capstone by IBM/Coursera</font></h2>\n",
    "\n",
    "<h2 align=center><font size=5>Introduction and problem definition.</font></h2>\n",
    "\n",
    "<h2 align=center><font size = 4>Choosing the best neighborhood to locate a Zimbabwean cuisine restaurant in New York City</font></h2>\n",
    "\n",
    "During a recent trip to New York, a Zimbabwean delegation noticed a number of African cuisine restaurants but none serving Zimbabwean dishes. One of the business delegation members seeks to open a restaurant specifically to serve Zimbabwean cuisine in order to ride on the growth in demand of African cuisines in a cosmopolitan city like New York.\n",
    "\n",
    "No matter where in the world one considers building a startup, they are bound to be both nervous and anxious. For an entrepreneur, it can be nerve-wracking attempting to maneuver through a big city looking for a suitable location to establish company operations. Location is one of the pivotal points of consideration and can affect almost every aspect of the company. Taking the time to investigate multiple locations wastes both time and money. It is judicious to ask for the services of a data scientist so that they recommend the most suitable location based on agreed criteria.\n",
    "\n",
    "For this project, I seek to answer the question; 'Where would we recommend that an Zimbabwean cuisine restaurant be located in the city of New York?'\n",
    "\n",
    "Where to locate the restaurant business depends in part on the location of the target market (expatriate areas with a limited number of African restaurants), business partners (other African cuisine restaurants to assist with visibility), and personal preferences (easy access from subway and airports).\n",
    "\n",
    "We aim to come up with clusters of recommended neighborhoods and offer our client options to consider as they select the most suitable location.\n"
   ]
  },
  {
   "cell_type": "code",
   "execution_count": null,
   "metadata": {},
   "outputs": [],
   "source": []
  }
 ],
 "metadata": {
  "kernelspec": {
   "display_name": "Python 3",
   "language": "python",
   "name": "python3"
  },
  "language_info": {
   "codemirror_mode": {
    "name": "ipython",
    "version": 3
   },
   "file_extension": ".py",
   "mimetype": "text/x-python",
   "name": "python",
   "nbconvert_exporter": "python",
   "pygments_lexer": "ipython3",
   "version": "3.6.8"
  }
 },
 "nbformat": 4,
 "nbformat_minor": 2
}
