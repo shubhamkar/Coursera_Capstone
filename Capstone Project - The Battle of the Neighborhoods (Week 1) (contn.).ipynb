{
 "cells": [
  {
   "cell_type": "markdown",
   "metadata": {},
   "source": [
    "<h2 align=center><font size=6>Capstone Project - The Battle of the Neighborhoods (Week 1)</font></h2>\n",
    "\n",
    "<h2 align=center><font size=5>Applied Data Science Capstone by IBM/Coursera</font></h2>\n",
    "\n",
    "<h2 align=center><font size=5>Data</font></h2>\n",
    "\n",
    "<h2 align=center><font size = 4>Choosing the best neighborhood to locate a Zimbabwean cuisine restaurant in New York City</font></h2>\n",
    "\n",
    "The data we need to narrow down the site choices of the restaurant as contemplated in this project is as follows: expatriate areas with a maximum of five African restaurants, near a major business district, and a transport hub.\n",
    "\n",
    "We will show skills of moving data around, using databases, using APIs, performing data transformation, and creating visualizations using Python.\n",
    "\n",
    "Data will be gathered from https://geo.nyu.edu/catalog/nyu_2451_34572 and https://www.restohub.org/\n",
    "\n",
    "I shall use the Foursquare API to explore neighborhoods in New York City and apply the explore function to get the most common venue categories in each of the neighborhoods. I will then use this feature to group the neighborhoods into clusters and use the k-means clustering algorithm to refine the groupings. Finally, I will use the Folium library to visualize the neighborhoods in New York City and their emerging clusters as well as push the right neighborhood for setting up the restaurant business.\n"
   ]
  },
  {
   "cell_type": "code",
   "execution_count": null,
   "metadata": {},
   "outputs": [],
   "source": []
  }
 ],
 "metadata": {
  "kernelspec": {
   "display_name": "Python 3",
   "language": "python",
   "name": "python3"
  },
  "language_info": {
   "codemirror_mode": {
    "name": "ipython",
    "version": 3
   },
   "file_extension": ".py",
   "mimetype": "text/x-python",
   "name": "python",
   "nbconvert_exporter": "python",
   "pygments_lexer": "ipython3",
   "version": "3.6.8"
  }
 },
 "nbformat": 4,
 "nbformat_minor": 2
}
